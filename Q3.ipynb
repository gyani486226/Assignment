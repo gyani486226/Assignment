{
 "cells": [
  {
   "cell_type": "raw",
   "id": "b717e2ad-6b47-45b0-8d5a-8680dd6c7621",
   "metadata": {},
   "source": [
    "Q3 Compare and contrast mutable and immutable objects in python with examples\n",
    "Mutable objects =  Objects or container whose state or value can be  changed  after they are created are called as mutable objects or container \n",
    "1. list is a type of mutable objects,\n",
    "2. it supports item assignment."
   ]
  },
  {
   "cell_type": "code",
   "execution_count": 1,
   "id": "a7b7f933-62b1-4975-8efb-793787f6cf50",
   "metadata": {},
   "outputs": [
    {
     "name": "stdout",
     "output_type": "stream",
     "text": [
      "[1, 45, 567, 'Saurabh', 'Rinku']\n"
     ]
    }
   ],
   "source": [
    "list = [1, 45, 567, \"Saurabh\" ,\"Rinku\" ]\n",
    "print(list)"
   ]
  },
  {
   "cell_type": "code",
   "execution_count": 2,
   "id": "346601ee-eeef-4cee-bbd9-e8908194921f",
   "metadata": {},
   "outputs": [
    {
     "data": {
      "text/plain": [
       "1"
      ]
     },
     "execution_count": 2,
     "metadata": {},
     "output_type": "execute_result"
    }
   ],
   "source": [
    "list[0]"
   ]
  },
  {
   "cell_type": "code",
   "execution_count": 4,
   "id": "1b0bb7a4-6b21-426f-b1bd-f19be62b5d94",
   "metadata": {},
   "outputs": [
    {
     "data": {
      "text/plain": [
       "[33, 45, 567, 'Saurabh', 'Rinku']"
      ]
     },
     "execution_count": 4,
     "metadata": {},
     "output_type": "execute_result"
    }
   ],
   "source": [
    "list[0] = 33 # assign value\n",
    "list"
   ]
  },
  {
   "cell_type": "code",
   "execution_count": 5,
   "id": "24666846-a6ff-4d22-b784-f678d552dc69",
   "metadata": {},
   "outputs": [
    {
     "data": {
      "text/plain": [
       "[33, 45, 567, 'Shanu', 'Rinku']"
      ]
     },
     "execution_count": 5,
     "metadata": {},
     "output_type": "execute_result"
    }
   ],
   "source": [
    "list[3] = \"Shanu\" # assign new name\n",
    "list"
   ]
  },
  {
   "cell_type": "raw",
   "id": "5baa8fa2-07d3-4759-ae9e-0529c75055e5",
   "metadata": {},
   "source": [
    "Immutable objects = objects/container whose state or value can not be changed after they created are called as immutable objects or container.\n",
    "1. String is atype of immutable object which doesn't supports item assignment."
   ]
  },
  {
   "cell_type": "code",
   "execution_count": 2,
   "id": "958ea3c7-a123-4ae4-ae77-38122a15b4a4",
   "metadata": {},
   "outputs": [
    {
     "data": {
      "text/plain": [
       "'Venkatesh'"
      ]
     },
     "execution_count": 2,
     "metadata": {},
     "output_type": "execute_result"
    }
   ],
   "source": [
    "name = \"Venkatesh\"\n",
    "name"
   ]
  },
  {
   "cell_type": "code",
   "execution_count": 7,
   "id": "15ba815a-5c95-4f21-860a-ff2b220658a4",
   "metadata": {},
   "outputs": [
    {
     "data": {
      "text/plain": [
       "'V'"
      ]
     },
     "execution_count": 7,
     "metadata": {},
     "output_type": "execute_result"
    }
   ],
   "source": [
    "name[0]"
   ]
  },
  {
   "cell_type": "code",
   "execution_count": 3,
   "id": "f75ea2fb-00c1-4c62-94d2-2840cc839ec2",
   "metadata": {},
   "outputs": [
    {
     "ename": "TypeError",
     "evalue": "'str' object does not support item assignment",
     "output_type": "error",
     "traceback": [
      "\u001b[1;31m---------------------------------------------------------------------------\u001b[0m",
      "\u001b[1;31mTypeError\u001b[0m                                 Traceback (most recent call last)",
      "Cell \u001b[1;32mIn[3], line 1\u001b[0m\n\u001b[1;32m----> 1\u001b[0m \u001b[43mname\u001b[49m\u001b[43m[\u001b[49m\u001b[38;5;241;43m0\u001b[39;49m\u001b[43m]\u001b[49m \u001b[38;5;241m=\u001b[39m \u001b[38;5;124m\"\u001b[39m\u001b[38;5;124mp\u001b[39m\u001b[38;5;124m\"\u001b[39m \u001b[38;5;66;03m#assign value\u001b[39;00m\n\u001b[0;32m      2\u001b[0m name\n",
      "\u001b[1;31mTypeError\u001b[0m: 'str' object does not support item assignment"
     ]
    }
   ],
   "source": [
    "name[0] = \"p\" #assign value\n",
    "name"
   ]
  },
  {
   "cell_type": "code",
   "execution_count": null,
   "id": "6cf3fdc5-26fe-4345-999e-ae897647b259",
   "metadata": {},
   "outputs": [],
   "source": []
  },
  {
   "cell_type": "code",
   "execution_count": null,
   "id": "f888e010-75a3-4283-a082-c145e1f9d201",
   "metadata": {},
   "outputs": [],
   "source": []
  }
 ],
 "metadata": {
  "kernelspec": {
   "display_name": "Python 3 (ipykernel)",
   "language": "python",
   "name": "python3"
  },
  "language_info": {
   "codemirror_mode": {
    "name": "ipython",
    "version": 3
   },
   "file_extension": ".py",
   "mimetype": "text/x-python",
   "name": "python",
   "nbconvert_exporter": "python",
   "pygments_lexer": "ipython3",
   "version": "3.12.4"
  }
 },
 "nbformat": 4,
 "nbformat_minor": 5
}
