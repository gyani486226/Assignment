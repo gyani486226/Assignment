{
 "cells": [
  {
   "cell_type": "raw",
   "id": "b07fb4d9-f76d-4e56-a54e-d96443770450",
   "metadata": {},
   "source": [
    "Q7 Describe the different types of loops in Python and their use cases with examples\n",
    "It allows you to execute a block of code repeatedly\n",
    "# While loop and for loop"
   ]
  },
  {
   "cell_type": "raw",
   "id": "92acfffc-4b1a-49c1-bd1f-b86f991b0927",
   "metadata": {},
   "source": [
    "# Syntax\n",
    "statement x\n",
    "while (condition):\n",
    "    statement block\n",
    "statement y    "
   ]
  },
  {
   "cell_type": "code",
   "execution_count": 7,
   "id": "abe81093-d37b-4227-a989-f737d0785258",
   "metadata": {},
   "outputs": [
    {
     "name": "stdout",
     "output_type": "stream",
     "text": [
      "0 1 2 3 4 5 6 7 8 9 10 \n",
      " end statement\n"
     ]
    }
   ],
   "source": [
    "#while loop >> repeatedly executed a block of code until a condition is satisfied \n",
    "# Program to print first 10 numbers using a while loop\n",
    "i = 0\n",
    "while(i<=10):\n",
    "    print(i,end=\" \")\n",
    "    i =i+1\n",
    "print(\"\\n end statement\")    "
   ]
  },
  {
   "cell_type": "code",
   "execution_count": 12,
   "id": "8caef16e-e4aa-438d-967a-d7b3d947cf63",
   "metadata": {},
   "outputs": [
    {
     "name": "stdout",
     "output_type": "stream",
     "text": [
      "Average of the number is 5.5\n",
      "Sum of the number is 55\n"
     ]
    }
   ],
   "source": [
    "# program to calculate the sum and average of first 10 numbers.\n",
    "count = 0\n",
    "i = 1\n",
    "s = 0\n",
    "while(i<=10):\n",
    "    s = s+i\n",
    "    count = count + 1\n",
    "    i = i+1\n",
    "print(\"Average of the number is\", s/count)    \n",
    "print(\"Sum of the number is\", s )\n"
   ]
  },
  {
   "cell_type": "code",
   "execution_count": 14,
   "id": "cf6c37fa-65cb-4ede-a5fa-917cb887b938",
   "metadata": {},
   "outputs": [
    {
     "name": "stdout",
     "output_type": "stream",
     "text": [
      "42\n"
     ]
    }
   ],
   "source": [
    "# Write a program to calculate the sum of numbers from 10 to 15.\n",
    "m = 3\n",
    "n = 9 \n",
    "s = 0\n",
    "while(m<=n):\n",
    "    s = s+m\n",
    "    m = m+1\n",
    "print(s)    \n"
   ]
  },
  {
   "cell_type": "code",
   "execution_count": 16,
   "id": "9e4706cd-b446-4b97-b3b9-cd9409425618",
   "metadata": {},
   "outputs": [
    {
     "name": "stdout",
     "output_type": "stream",
     "text": [
      "5 4 3 2 1 "
     ]
    }
   ],
   "source": [
    "count = 5\n",
    "while count>0:\n",
    "    print(count , end=\" \")\n",
    "    count = count-1"
   ]
  },
  {
   "cell_type": "code",
   "execution_count": 17,
   "id": "84271c56-59bf-4498-9a7c-78941e6a470d",
   "metadata": {},
   "outputs": [
    {
     "name": "stdout",
     "output_type": "stream",
     "text": [
      "1 2 "
     ]
    }
   ],
   "source": [
    " l = [1, 2, \"Ajay\",\"Pwskills\"]\n",
    "for i in l:\n",
    "    if i ==\"Ajay\":\n",
    "        break\n",
    "    print(i, end = \" \")\n",
    "else:\n",
    "    print(\"This will be executed when for loop ends without a break statement\")"
   ]
  },
  {
   "cell_type": "code",
   "execution_count": 18,
   "id": "6a6cfad4-68ef-4c5a-aa4b-7ec188cfac83",
   "metadata": {},
   "outputs": [
    {
     "name": "stdout",
     "output_type": "stream",
     "text": [
      "S h a n u   s i n g h "
     ]
    }
   ],
   "source": [
    "a = \"Shanu singh\"\n",
    "for i in a:\n",
    "    print(i, end=\" \")\n"
   ]
  },
  {
   "cell_type": "code",
   "execution_count": 19,
   "id": "d82fe5b0-9304-4fc5-8923-df1cf542ac27",
   "metadata": {},
   "outputs": [
    {
     "name": "stdout",
     "output_type": "stream",
     "text": [
      "* \n",
      "* * \n",
      "* * * \n",
      "* * * * \n",
      "* * * * * \n"
     ]
    }
   ],
   "source": [
    "row = 1\n",
    "while row <= 5:\n",
    "    col = 1\n",
    "    while col <= row:\n",
    "        print(\"*\", end = \" \")\n",
    "        col = col+1\n",
    "    print()   \n",
    "    row = row+1"
   ]
  },
  {
   "cell_type": "code",
   "execution_count": 1,
   "id": "7725798b-b105-48fe-87b7-48f50275370e",
   "metadata": {},
   "outputs": [
    {
     "name": "stdout",
     "output_type": "stream",
     "text": [
      "* * * * \n",
      "* * * * \n",
      "* * * * \n",
      "* * * * \n"
     ]
    }
   ],
   "source": [
    "row = 1\n",
    "while row<=4:\n",
    "    col=1\n",
    "    while col<=4:\n",
    "        print(\"*\", end = \" \")\n",
    "        col = col+1\n",
    "    print() # this will print a new line\n",
    "    row = row+1 "
   ]
  },
  {
   "cell_type": "code",
   "execution_count": null,
   "id": "86185c70-11db-4fba-9be3-29693371364b",
   "metadata": {},
   "outputs": [],
   "source": []
  }
 ],
 "metadata": {
  "kernelspec": {
   "display_name": "Python 3 (ipykernel)",
   "language": "python",
   "name": "python3"
  },
  "language_info": {
   "codemirror_mode": {
    "name": "ipython",
    "version": 3
   },
   "file_extension": ".py",
   "mimetype": "text/x-python",
   "name": "python",
   "nbconvert_exporter": "python",
   "pygments_lexer": "ipython3",
   "version": "3.10.8"
  }
 },
 "nbformat": 4,
 "nbformat_minor": 5
}
