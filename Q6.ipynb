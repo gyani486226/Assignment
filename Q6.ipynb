{
 "cells": [
  {
   "cell_type": "markdown",
   "id": "b9c15a4b-a7b0-4a28-a40c-deb20f34cb8f",
   "metadata": {},
   "source": [
    "Q6. How do conditional statements work in Python ? Illustrate with examples.\n",
    " The decision control statements jumps one part of the code if the one part code is True then executes second \n",
    "part of the code otherwise it go to esle condition like that it executed,\n",
    "Many types of conditional statements \n",
    "1 if statement\n",
    "2 if-else statement\n",
    "3 Nested if statements\n",
    "4 if-elif-else statement"
   ]
  },
  {
   "cell_type": "code",
   "execution_count": 1,
   "id": "42b2c6ed-3228-488a-a76d-d90bf4f1c62d",
   "metadata": {},
   "outputs": [
    {
     "name": "stdout",
     "output_type": "stream",
     "text": [
      "16\n"
     ]
    }
   ],
   "source": [
    "# Program to increment the value of x\n",
    "x = 15\n",
    "if(x>0):\n",
    "    x = x+1\n",
    "print(x)"
   ]
  },
  {
   "cell_type": "code",
   "execution_count": 2,
   "id": "079b8883-b270-457f-80fa-9568df2e609c",
   "metadata": {},
   "outputs": [
    {
     "name": "stdin",
     "output_type": "stream",
     "text": [
      "Press any key :  ran\n"
     ]
    },
    {
     "name": "stdout",
     "output_type": "stream",
     "text": [
      "The user has enterd a character\n"
     ]
    }
   ],
   "source": [
    "# Write a program to determine the character entered by the user.\n",
    "char = input(\"Press any key : \")\n",
    "if (char.isalpha()):\n",
    "    print(\"The user has enterd a character\")\n",
    "if(char.isdigit()):\n",
    "    print(\"The user has entered a digit\")\n",
    "if(char.isspace()):\n",
    "    print(\"The user has entered a white space character\")"
   ]
  },
  {
   "cell_type": "code",
   "execution_count": 3,
   "id": "b7bcf72d-cfc3-427c-8dec-8951f4060f69",
   "metadata": {},
   "outputs": [
    {
     "name": "stdin",
     "output_type": "stream",
     "text": [
      "Enter a nummber:  23\n"
     ]
    },
    {
     "name": "stdout",
     "output_type": "stream",
     "text": [
      "The given number is positive\n"
     ]
    }
   ],
   "source": [
    "# Program to test whether a number entered by the user is negative, positive, or equal to zero\n",
    "num = int(input(\"Enter a nummber: \"))\n",
    "if num == 0:\n",
    "    print(\"The given number is equal to zero\")\n",
    "elif num>0:\n",
    "    print(\"The given number is positive\")\n",
    "else:\n",
    "    print(\"The given number is negative\")"
   ]
  },
  {
   "cell_type": "code",
   "execution_count": 4,
   "id": "dbde36be-00cf-4ea7-84ec-ae60100350c7",
   "metadata": {},
   "outputs": [
    {
     "name": "stdin",
     "output_type": "stream",
     "text": [
      "Enter any number between 1 to 7:  4\n"
     ]
    },
    {
     "name": "stdout",
     "output_type": "stream",
     "text": [
      "Wednesday\n"
     ]
    }
   ],
   "source": [
    "# Write a program to display the corresponding day of the week\n",
    "num = int(input(\"Enter any number between 1 to 7: \"))\n",
    "if(num==1):\n",
    "    print(\"Sunday\")\n",
    "elif(num==2):\n",
    "    print(\"monday\")\n",
    "elif(num==3):\n",
    "    print(\"Tuesday\")  \n",
    "elif(num==4):\n",
    "    print(\"Wednesday\")\n",
    "elif(num==5):\n",
    "    print(\"Thursday\") \n",
    "elif(num==6):\n",
    "    print(\"Friay\")\n",
    "elif(num==7):\n",
    "    print(\"Saturday\")\n",
    "else:\n",
    "    print(\"The given input is invalid\")\n",
    "    "
   ]
  },
  {
   "cell_type": "code",
   "execution_count": null,
   "id": "f2b6806e-f319-4b81-8b0c-8563dfa94507",
   "metadata": {},
   "outputs": [],
   "source": []
  }
 ],
 "metadata": {
  "kernelspec": {
   "display_name": "Python 3 (ipykernel)",
   "language": "python",
   "name": "python3"
  },
  "language_info": {
   "codemirror_mode": {
    "name": "ipython",
    "version": 3
   },
   "file_extension": ".py",
   "mimetype": "text/x-python",
   "name": "python",
   "nbconvert_exporter": "python",
   "pygments_lexer": "ipython3",
   "version": "3.10.8"
  }
 },
 "nbformat": 4,
 "nbformat_minor": 5
}
