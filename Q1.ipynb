{
 "cells": [
  {
   "cell_type": "markdown",
   "id": "90836cd1-af88-4c75-a478-3abfc9e24cdd",
   "metadata": {},
   "source": [
    "### Explain the key features of Python that make it a popular choice for programming"
   ]
  },
  {
   "cell_type": "code",
   "execution_count": null,
   "id": "c1a7ffcd-4e48-4d07-9dcb-aa5cea21e11d",
   "metadata": {},
   "outputs": [],
   "source": [
    "### There are many reasons why the python language is popular are as follows:\n",
    "1. The foremost reason is python language is easy to understand.\n",
    "2. Python language is widely used in Industreis.\n",
    "3. A lot of libraries  are available in python language that is easily portable across different platforms .\n",
    "4. The versatility use of Python like web development, Machine learning and data analysis etc.\n",
    "5. A python language is easy to read.\n",
    "6. Code written in Python is easy to maintain.\n",
    "7.     \n",
    "   "
   ]
  },
  {
   "cell_type": "code",
   "execution_count": null,
   "id": "9ee6691d-7a93-478b-a80e-d2dcada92092",
   "metadata": {},
   "outputs": [],
   "source": [
    "\n"
   ]
  },
  {
   "cell_type": "code",
   "execution_count": null,
   "id": "5cab7863-93dc-405b-ab00-bf95a9f2e4cc",
   "metadata": {},
   "outputs": [],
   "source": []
  },
  {
   "cell_type": "code",
   "execution_count": null,
   "id": "eeb19061-6417-4212-b61e-f6000aef96cf",
   "metadata": {},
   "outputs": [],
   "source": []
  },
  {
   "cell_type": "code",
   "execution_count": null,
   "id": "46e906a4-0a7e-47d2-8bcc-89a95e52dc9a",
   "metadata": {},
   "outputs": [],
   "source": []
  }
 ],
 "metadata": {
  "kernelspec": {
   "display_name": "Python 3 (ipykernel)",
   "language": "python",
   "name": "python3"
  },
  "language_info": {
   "codemirror_mode": {
    "name": "ipython",
    "version": 3
   },
   "file_extension": ".py",
   "mimetype": "text/x-python",
   "name": "python",
   "nbconvert_exporter": "python",
   "pygments_lexer": "ipython3",
   "version": "3.12.4"
  }
 },
 "nbformat": 4,
 "nbformat_minor": 5
}
