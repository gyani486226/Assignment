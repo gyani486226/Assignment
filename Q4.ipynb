{
 "cells": [
  {
   "cell_type": "raw",
   "id": "6f3af8b1-54e5-4cdc-a187-fca66aece8d6",
   "metadata": {},
   "source": [
    "Q4 Discuss the different types of operators in Python and provide examples of how they are used.\n",
    "many types of operator 1. arithmetic operator 2. Comparison operator 3. logical operators 4. Bitwise operators 5. assignment operators 6. Membership operators 7. Identity operators \n",
    "Python operators - Is a special type of kewword which are used for comparing the variables and used for logic to perform operations on values or variable.   "
   ]
  },
  {
   "cell_type": "code",
   "execution_count": null,
   "id": "5f919d71-34af-47a2-bf63-43928dbd0dba",
   "metadata": {},
   "outputs": [],
   "source": []
  },
  {
   "cell_type": "code",
   "execution_count": 27,
   "id": "eb16ac63-dfa1-4525-8a64-c03af0a92b2b",
   "metadata": {},
   "outputs": [
    {
     "data": {
      "text/plain": [
       "12"
      ]
     },
     "execution_count": 27,
     "metadata": {},
     "output_type": "execute_result"
    }
   ],
   "source": [
    "#Arithmetic operation like addition, multipply,remainder etc\n",
    "a = 8\n",
    "b = 4\n",
    "a + b"
   ]
  },
  {
   "cell_type": "code",
   "execution_count": 28,
   "id": "87039311-7629-423d-9210-65e09e3b9dcc",
   "metadata": {},
   "outputs": [
    {
     "data": {
      "text/plain": [
       "95"
      ]
     },
     "execution_count": 28,
     "metadata": {},
     "output_type": "execute_result"
    }
   ],
   "source": [
    "100 - 5"
   ]
  },
  {
   "cell_type": "code",
   "execution_count": 7,
   "id": "71ad9525-c3c4-4b06-8687-828aff9170f7",
   "metadata": {},
   "outputs": [
    {
     "data": {
      "text/plain": [
       "32"
      ]
     },
     "execution_count": 7,
     "metadata": {},
     "output_type": "execute_result"
    }
   ],
   "source": [
    "a*b #multiply"
   ]
  },
  {
   "cell_type": "code",
   "execution_count": 9,
   "id": "8c353333-89aa-4bae-b912-6b484e0dae83",
   "metadata": {},
   "outputs": [
    {
     "data": {
      "text/plain": [
       "4096"
      ]
     },
     "execution_count": 9,
     "metadata": {},
     "output_type": "execute_result"
    }
   ],
   "source": [
    "a**b # power"
   ]
  },
  {
   "cell_type": "code",
   "execution_count": 10,
   "id": "de973a05-2706-40e7-b928-f736ed2c9a36",
   "metadata": {},
   "outputs": [
    {
     "data": {
      "text/plain": [
       "0"
      ]
     },
     "execution_count": 10,
     "metadata": {},
     "output_type": "execute_result"
    }
   ],
   "source": [
    "a % b #modulus operator"
   ]
  },
  {
   "cell_type": "code",
   "execution_count": 12,
   "id": "2b910c0b-4d21-4967-a9b6-f99adb520e20",
   "metadata": {},
   "outputs": [
    {
     "data": {
      "text/plain": [
       "2"
      ]
     },
     "execution_count": 12,
     "metadata": {},
     "output_type": "execute_result"
    }
   ],
   "source": [
    "a//b # floor operator"
   ]
  },
  {
   "cell_type": "code",
   "execution_count": 19,
   "id": "eba8e0c6-3ea3-4c2e-ae43-48363c9cb9a7",
   "metadata": {},
   "outputs": [
    {
     "data": {
      "text/plain": [
       "False"
      ]
     },
     "execution_count": 19,
     "metadata": {},
     "output_type": "execute_result"
    }
   ],
   "source": [
    "# comparison operato\n",
    "a = 8\n",
    "b = 4\n",
    "a == b"
   ]
  },
  {
   "cell_type": "code",
   "execution_count": 14,
   "id": "5c025850-df13-4016-8c83-d353dd96ae07",
   "metadata": {},
   "outputs": [
    {
     "data": {
      "text/plain": [
       "True"
      ]
     },
     "execution_count": 14,
     "metadata": {},
     "output_type": "execute_result"
    }
   ],
   "source": [
    "a!=b"
   ]
  },
  {
   "cell_type": "code",
   "execution_count": 15,
   "id": "06ce37c0-4405-41ea-89af-961a302d791b",
   "metadata": {},
   "outputs": [
    {
     "data": {
      "text/plain": [
       "True"
      ]
     },
     "execution_count": 15,
     "metadata": {},
     "output_type": "execute_result"
    }
   ],
   "source": [
    "a>b"
   ]
  },
  {
   "cell_type": "code",
   "execution_count": 22,
   "id": "40088f91-2ae3-4980-b677-f752e77490fe",
   "metadata": {},
   "outputs": [
    {
     "data": {
      "text/plain": [
       "True"
      ]
     },
     "execution_count": 22,
     "metadata": {},
     "output_type": "execute_result"
    }
   ],
   "source": [
    "a>=b"
   ]
  },
  {
   "cell_type": "code",
   "execution_count": 23,
   "id": "5bacafd8-59a0-4791-9d57-df2f900a0bad",
   "metadata": {},
   "outputs": [
    {
     "data": {
      "text/plain": [
       "True"
      ]
     },
     "execution_count": 23,
     "metadata": {},
     "output_type": "execute_result"
    }
   ],
   "source": [
    "# Logical operators\n",
    "True and True "
   ]
  },
  {
   "cell_type": "code",
   "execution_count": 24,
   "id": "c018b881-9cd5-419f-a7bf-afa27699dd92",
   "metadata": {},
   "outputs": [
    {
     "data": {
      "text/plain": [
       "False"
      ]
     },
     "execution_count": 24,
     "metadata": {},
     "output_type": "execute_result"
    }
   ],
   "source": [
    "True and False"
   ]
  },
  {
   "cell_type": "code",
   "execution_count": 25,
   "id": "d365e602-8585-4280-938e-62548d4c3e4f",
   "metadata": {},
   "outputs": [
    {
     "data": {
      "text/plain": [
       "False"
      ]
     },
     "execution_count": 25,
     "metadata": {},
     "output_type": "execute_result"
    }
   ],
   "source": [
    "# not operator\n",
    "not True"
   ]
  },
  {
   "cell_type": "code",
   "execution_count": 26,
   "id": "d6829ac0-f344-4e4a-8d2d-9784a65ad7d0",
   "metadata": {},
   "outputs": [
    {
     "data": {
      "text/plain": [
       "True"
      ]
     },
     "execution_count": 26,
     "metadata": {},
     "output_type": "execute_result"
    }
   ],
   "source": [
    "not False"
   ]
  },
  {
   "cell_type": "code",
   "execution_count": 33,
   "id": "7367e188-8523-4da0-8b34-da8eb6a4678f",
   "metadata": {},
   "outputs": [
    {
     "data": {
      "text/plain": [
       "12"
      ]
     },
     "execution_count": 33,
     "metadata": {},
     "output_type": "execute_result"
    }
   ],
   "source": [
    "c = 8 # also a assignment operator\n",
    "d = 4\n",
    "c + d"
   ]
  },
  {
   "cell_type": "code",
   "execution_count": 36,
   "id": "d2f91626-615c-4196-9838-d0ea5c4e4776",
   "metadata": {},
   "outputs": [
    {
     "data": {
      "text/plain": [
       "15"
      ]
     },
     "execution_count": 36,
     "metadata": {},
     "output_type": "execute_result"
    }
   ],
   "source": [
    "c = 10\n",
    "c +=5\n",
    "c"
   ]
  },
  {
   "cell_type": "code",
   "execution_count": 35,
   "id": "113f2945-a3b8-47ba-aac0-59adf7a88a22",
   "metadata": {},
   "outputs": [
    {
     "data": {
      "text/plain": [
       "15"
      ]
     },
     "execution_count": 35,
     "metadata": {},
     "output_type": "execute_result"
    }
   ],
   "source": [
    "c"
   ]
  },
  {
   "cell_type": "code",
   "execution_count": 37,
   "id": "a7a3796e-f72a-4667-b098-f14520c09740",
   "metadata": {},
   "outputs": [
    {
     "data": {
      "text/plain": [
       "True"
      ]
     },
     "execution_count": 37,
     "metadata": {},
     "output_type": "execute_result"
    }
   ],
   "source": [
    "# membership operator \n",
    "a = \"pwskills\"\n",
    "\"p\" in a"
   ]
  },
  {
   "cell_type": "code",
   "execution_count": 38,
   "id": "921a7433-1e1d-4f67-95a0-79db76341c7d",
   "metadata": {},
   "outputs": [
    {
     "data": {
      "text/plain": [
       "True"
      ]
     },
     "execution_count": 38,
     "metadata": {},
     "output_type": "execute_result"
    }
   ],
   "source": [
    "\"s\" in a"
   ]
  },
  {
   "cell_type": "code",
   "execution_count": 39,
   "id": "f3f5666b-3801-49c3-a234-fb4fb89591f2",
   "metadata": {},
   "outputs": [
    {
     "data": {
      "text/plain": [
       "True"
      ]
     },
     "execution_count": 39,
     "metadata": {},
     "output_type": "execute_result"
    }
   ],
   "source": [
    "a = [\"shanu\" , \"hlo\", \"Ramu\", 1, 5]\n",
    "5 in a"
   ]
  },
  {
   "cell_type": "code",
   "execution_count": 40,
   "id": "e86b8e1b-92cf-4121-b4d7-b0af38d3eabe",
   "metadata": {},
   "outputs": [
    {
     "data": {
      "text/plain": [
       "True"
      ]
     },
     "execution_count": 40,
     "metadata": {},
     "output_type": "execute_result"
    }
   ],
   "source": [
    "\"hlo\" in a"
   ]
  },
  {
   "cell_type": "code",
   "execution_count": 41,
   "id": "a3e7e9c4-7210-44f8-9da6-0991ab30aa89",
   "metadata": {},
   "outputs": [
    {
     "data": {
      "text/plain": [
       "False"
      ]
     },
     "execution_count": 41,
     "metadata": {},
     "output_type": "execute_result"
    }
   ],
   "source": [
    "\"hlo\" not in a"
   ]
  },
  {
   "cell_type": "code",
   "execution_count": 43,
   "id": "68c7d1b8-edb3-441e-b052-e66e7aeb4a17",
   "metadata": {},
   "outputs": [
    {
     "data": {
      "text/plain": [
       "False"
      ]
     },
     "execution_count": 43,
     "metadata": {},
     "output_type": "execute_result"
    }
   ],
   "source": [
    "# identity operator>> compares the locations of two objects or variables\n",
    "c = 9\n",
    "d = 10\n",
    "c is d"
   ]
  },
  {
   "cell_type": "code",
   "execution_count": 44,
   "id": "284793bd-f0f7-4ac5-bcc5-a254c8b988f4",
   "metadata": {},
   "outputs": [
    {
     "data": {
      "text/plain": [
       "True"
      ]
     },
     "execution_count": 44,
     "metadata": {},
     "output_type": "execute_result"
    }
   ],
   "source": [
    "# identity operator>> compares the locations of two objects or variables\n",
    "c = 9\n",
    "d = 10\n",
    "c is not d"
   ]
  },
  {
   "cell_type": "code",
   "execution_count": 46,
   "id": "b0464bc9-7566-44f7-b02d-094c45b10354",
   "metadata": {},
   "outputs": [
    {
     "data": {
      "text/plain": [
       "True"
      ]
     },
     "execution_count": 46,
     "metadata": {},
     "output_type": "execute_result"
    }
   ],
   "source": [
    "e = 10\n",
    "f = 10\n",
    "e is f"
   ]
  },
  {
   "cell_type": "code",
   "execution_count": 51,
   "id": "23816da9-7fde-4ecc-8129-3ced3e1fd8ee",
   "metadata": {},
   "outputs": [
    {
     "data": {
      "text/plain": [
       "10"
      ]
     },
     "execution_count": 51,
     "metadata": {},
     "output_type": "execute_result"
    }
   ],
   "source": [
    "# bitwise operator.. operation involved in bit level\n",
    "10&10"
   ]
  },
  {
   "cell_type": "code",
   "execution_count": 52,
   "id": "10a7ab01-d5eb-4e0e-8df7-5e9be4d9fb93",
   "metadata": {},
   "outputs": [
    {
     "data": {
      "text/plain": [
       "'0b1010'"
      ]
     },
     "execution_count": 52,
     "metadata": {},
     "output_type": "execute_result"
    }
   ],
   "source": [
    "bin(10)"
   ]
  },
  {
   "cell_type": "code",
   "execution_count": 54,
   "id": "e9498502-5e5e-4568-950e-1d6d0a9a5981",
   "metadata": {},
   "outputs": [
    {
     "data": {
      "text/plain": [
       "15"
      ]
     },
     "execution_count": 54,
     "metadata": {},
     "output_type": "execute_result"
    }
   ],
   "source": [
    "10|5"
   ]
  },
  {
   "cell_type": "code",
   "execution_count": 55,
   "id": "bd47445a-303c-4b37-9592-994b0ceb17cd",
   "metadata": {},
   "outputs": [
    {
     "data": {
      "text/plain": [
       "'0b1111'"
      ]
     },
     "execution_count": 55,
     "metadata": {},
     "output_type": "execute_result"
    }
   ],
   "source": [
    "bin(15)"
   ]
  },
  {
   "cell_type": "code",
   "execution_count": 56,
   "id": "831c5ff2-c812-48f6-8660-022d17d4a6e4",
   "metadata": {},
   "outputs": [
    {
     "data": {
      "text/plain": [
       "'0b1010'"
      ]
     },
     "execution_count": 56,
     "metadata": {},
     "output_type": "execute_result"
    }
   ],
   "source": [
    "bin(10)"
   ]
  },
  {
   "cell_type": "code",
   "execution_count": 57,
   "id": "942069f0-b5a4-4a4f-80fe-53f1a084fc57",
   "metadata": {},
   "outputs": [
    {
     "data": {
      "text/plain": [
       "'0b101'"
      ]
     },
     "execution_count": 57,
     "metadata": {},
     "output_type": "execute_result"
    }
   ],
   "source": [
    "bin(5)"
   ]
  },
  {
   "cell_type": "code",
   "execution_count": null,
   "id": "7322dd1c-53f0-4f0b-b484-53747e0977a8",
   "metadata": {},
   "outputs": [],
   "source": []
  }
 ],
 "metadata": {
  "kernelspec": {
   "display_name": "Python 3 (ipykernel)",
   "language": "python",
   "name": "python3"
  },
  "language_info": {
   "codemirror_mode": {
    "name": "ipython",
    "version": 3
   },
   "file_extension": ".py",
   "mimetype": "text/x-python",
   "name": "python",
   "nbconvert_exporter": "python",
   "pygments_lexer": "ipython3",
   "version": "3.10.8"
  }
 },
 "nbformat": 4,
 "nbformat_minor": 5
}
