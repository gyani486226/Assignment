{
 "cells": [
  {
   "cell_type": "raw",
   "id": "39336cf4-a877-40e7-9b03-354c7da255bf",
   "metadata": {},
   "source": [
    "Q5 Explain the concept of type casting in Python with examples.\n",
    "type casting - The process of changing the data type value or object is known as casting"
   ]
  },
  {
   "cell_type": "code",
   "execution_count": 3,
   "id": "4c0747a0-1d12-4c11-a7a3-1472263d56ac",
   "metadata": {},
   "outputs": [
    {
     "data": {
      "text/plain": [
       "12"
      ]
     },
     "execution_count": 3,
     "metadata": {},
     "output_type": "execute_result"
    }
   ],
   "source": [
    "#int to float\n",
    "a = 4\n",
    "b = 8\n",
    "c = a+b\n",
    "c"
   ]
  },
  {
   "cell_type": "code",
   "execution_count": 4,
   "id": "04322703-c64f-41e8-804c-85c42f898f11",
   "metadata": {},
   "outputs": [
    {
     "data": {
      "text/plain": [
       "int"
      ]
     },
     "execution_count": 4,
     "metadata": {},
     "output_type": "execute_result"
    }
   ],
   "source": [
    "type(c)"
   ]
  },
  {
   "cell_type": "code",
   "execution_count": 6,
   "id": "50ebfa13-ed66-46ca-a7be-ac18a73b4bf3",
   "metadata": {},
   "outputs": [
    {
     "data": {
      "text/plain": [
       "12.0"
      ]
     },
     "execution_count": 6,
     "metadata": {},
     "output_type": "execute_result"
    }
   ],
   "source": [
    "d = float(c)\n",
    "d"
   ]
  },
  {
   "cell_type": "code",
   "execution_count": 8,
   "id": "c7c85062-cdc6-40e8-bbe6-20a606ce0df8",
   "metadata": {},
   "outputs": [
    {
     "name": "stdout",
     "output_type": "stream",
     "text": [
      "12.0\n"
     ]
    }
   ],
   "source": [
    "print(float(c))"
   ]
  },
  {
   "cell_type": "code",
   "execution_count": 9,
   "id": "f85e41ee-d2c8-4036-b1a2-c909fe67e7aa",
   "metadata": {},
   "outputs": [
    {
     "data": {
      "text/plain": [
       "int"
      ]
     },
     "execution_count": 9,
     "metadata": {},
     "output_type": "execute_result"
    }
   ],
   "source": [
    "# integer to string\n",
    "d = 4\n",
    "type(d)"
   ]
  },
  {
   "cell_type": "code",
   "execution_count": 14,
   "id": "92fc2c16-89a6-45d3-8f0d-ee02e438d4e4",
   "metadata": {},
   "outputs": [
    {
     "name": "stdout",
     "output_type": "stream",
     "text": [
      "4\n"
     ]
    },
    {
     "data": {
      "text/plain": [
       "str"
      ]
     },
     "execution_count": 14,
     "metadata": {},
     "output_type": "execute_result"
    }
   ],
   "source": [
    "e = str(d)\n",
    "print(e)\n",
    "type(e)"
   ]
  },
  {
   "cell_type": "code",
   "execution_count": 18,
   "id": "3c5ef333-5598-480a-9d84-94efc02d40f7",
   "metadata": {},
   "outputs": [
    {
     "data": {
      "text/plain": [
       "'kumar mauryaajay'"
      ]
     },
     "execution_count": 18,
     "metadata": {},
     "output_type": "execute_result"
    }
   ],
   "source": [
    "# Typecasting>> implicit and explicit\n",
    "# implicit typecasting >> Python understand the data dtype\n",
    "a = \"kumar maurya\" # concatiantion\n",
    "b = \"ajay\"\n",
    "a+b"
   ]
  },
  {
   "cell_type": "code",
   "execution_count": 1,
   "id": "2a30202b-1583-4f86-9664-c228840dc103",
   "metadata": {},
   "outputs": [
    {
     "data": {
      "text/plain": [
       "'5lalooo'"
      ]
     },
     "execution_count": 1,
     "metadata": {},
     "output_type": "execute_result"
    }
   ],
   "source": [
    "# explicit casting>> first convert data type using inbuilt function and after that perform operation\n",
    "a = 5\n",
    "b = \"lalooo\"\n",
    "a+b"
   ]
  },
  {
   "cell_type": "code",
   "execution_count": 2,
   "id": "3aede7cb-793a-4327-8d88-570e481bda37",
   "metadata": {},
   "outputs": [
    {
     "data": {
      "text/plain": [
       "'5lalooo'"
      ]
     },
     "execution_count": 2,
     "metadata": {},
     "output_type": "execute_result"
    }
   ],
   "source": [
    "c = str(a) #convert  integer to string \n",
    "c+b"
   ]
  },
  {
   "cell_type": "code",
   "execution_count": 4,
   "id": "0c2d18a6-bbc7-467c-b2b2-3a768ed545f1",
   "metadata": {},
   "outputs": [
    {
     "ename": "TypeError",
     "evalue": "can only concatenate str (not \"float\") to str",
     "output_type": "error",
     "traceback": [
      "\u001b[0;31m---------------------------------------------------------------------------\u001b[0m",
      "\u001b[0;31mTypeError\u001b[0m                                 Traceback (most recent call last)",
      "Cell \u001b[0;32mIn[4], line 2\u001b[0m\n\u001b[1;32m      1\u001b[0m a \u001b[38;5;241m=\u001b[39m \u001b[38;5;241m3.4\u001b[39m\n\u001b[0;32m----> 2\u001b[0m \u001b[38;5;28mprint\u001b[39m(\u001b[38;5;124;43m\"\u001b[39;49m\u001b[38;5;124;43mPython\u001b[39;49m\u001b[38;5;124;43m\"\u001b[39;49m\u001b[43m \u001b[49m\u001b[38;5;241;43m+\u001b[39;49m\u001b[43ma\u001b[49m) \u001b[38;5;66;03m# first convert intweger to string\u001b[39;00m\n",
      "\u001b[0;31mTypeError\u001b[0m: can only concatenate str (not \"float\") to str"
     ]
    }
   ],
   "source": [
    "a = 3.4\n",
    "c = \"chhotee\"\n",
    "print(a+c) # first convert integer to string  "
   ]
  },
  {
   "cell_type": "code",
   "execution_count": 7,
   "id": "723b3088-e087-430c-93c1-35b041ff9d8a",
   "metadata": {},
   "outputs": [],
   "source": [
    "b = str(a)"
   ]
  },
  {
   "cell_type": "code",
   "execution_count": 11,
   "id": "5ccd6da8-ad24-4a68-b749-5b7e4e2d47e4",
   "metadata": {},
   "outputs": [
    {
     "name": "stdout",
     "output_type": "stream",
     "text": [
      "3.45\n"
     ]
    }
   ],
   "source": [
    "print(b+c)"
   ]
  },
  {
   "cell_type": "code",
   "execution_count": null,
   "id": "29ad21db-5144-4449-90f1-d5b58e71e501",
   "metadata": {},
   "outputs": [],
   "source": []
  }
 ],
 "metadata": {
  "kernelspec": {
   "display_name": "Python 3 (ipykernel)",
   "language": "python",
   "name": "python3"
  },
  "language_info": {
   "codemirror_mode": {
    "name": "ipython",
    "version": 3
   },
   "file_extension": ".py",
   "mimetype": "text/x-python",
   "name": "python",
   "nbconvert_exporter": "python",
   "pygments_lexer": "ipython3",
   "version": "3.10.8"
  }
 },
 "nbformat": 4,
 "nbformat_minor": 5
}
