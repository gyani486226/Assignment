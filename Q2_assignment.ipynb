{
 "cells": [
  {
   "cell_type": "code",
   "execution_count": null,
   "id": "f3973947-f617-40ca-a0c1-b7d23bbd8d92",
   "metadata": {},
   "outputs": [],
   "source": []
  },
  {
   "cell_type": "raw",
   "id": "f69af66d-5724-4c62-8604-37cde230e350",
   "metadata": {},
   "source": [
    "Q2.Describe the role of predefined keywords in Python and provide examples of how they are used in a\n",
    "program.\n",
    " In python, predifined keywords is a special type of word that hold a special meaning and have uses specific purpose for writing code.These predefined keywords are help for write syntax and logic of the code. \n",
    "1. Python kewords are not used for writing variables,\n",
    "2. like (Print) is a predefined keyword which is used to print only output,\n",
    "3. we can't use print  as a   variable,\n",
    "4. if is also a type of predefined keyword,\n",
    "5. input is also a type of predefined keyword which is used to take input of any user."
   ]
  },
  {
   "cell_type": "code",
   "execution_count": 1,
   "id": "d8fa6e3e-434d-48e9-8fad-377438d93394",
   "metadata": {},
   "outputs": [
    {
     "name": "stdout",
     "output_type": "stream",
     "text": [
      "hello world\n"
     ]
    }
   ],
   "source": [
    "print(\"hello world\")"
   ]
  },
  {
   "cell_type": "code",
   "execution_count": 5,
   "id": "a01694ce-5ed6-4b55-bdbd-9eb71dc94ff9",
   "metadata": {},
   "outputs": [
    {
     "name": "stdout",
     "output_type": "stream",
     "text": [
      "a is greater than 10\n"
     ]
    }
   ],
   "source": [
    "a = 10\n",
    "if a>=10:\n",
    "    print(\"a is greater than 10\")\n"
   ]
  },
  {
   "cell_type": "code",
   "execution_count": 6,
   "id": "810f38d2-f1ae-4faa-9638-fe25945a7604",
   "metadata": {},
   "outputs": [
    {
     "name": "stdin",
     "output_type": "stream",
     "text": [
      "what is your name shanu\n",
      "your gender male\n",
      "your age 24\n"
     ]
    },
    {
     "data": {
      "text/plain": [
       "'24'"
      ]
     },
     "execution_count": 6,
     "metadata": {},
     "output_type": "execute_result"
    }
   ],
   "source": [
    "input(\"what is your name\") # input is a predefined key word\n",
    "input(\"your gender\")\n",
    "input(\"your age\")"
   ]
  },
  {
   "cell_type": "code",
   "execution_count": 1,
   "id": "84113606-3754-4009-935d-672e2b5cf42a",
   "metadata": {},
   "outputs": [
    {
     "name": "stdout",
     "output_type": "stream",
     "text": [
      "Eligible for voting\n"
     ]
    }
   ],
   "source": [
    "age = 20 # here if is a predefined keywords\n",
    "if age >= 18:\n",
    "    print(\"Eligible for voting\")\n",
    "else:\n",
    "    print(\"You are under age\")\n"
   ]
  },
  {
   "cell_type": "code",
   "execution_count": 5,
   "id": "a1eede28-77ed-477a-8c7b-f91d0c3aa302",
   "metadata": {},
   "outputs": [
    {
     "name": "stdin",
     "output_type": "stream",
     "text": [
      "Enter the value of a :  13\n",
      "Enter the value of b :  45\n"
     ]
    },
    {
     "name": "stdout",
     "output_type": "stream",
     "text": [
      "large = 45\n"
     ]
    }
   ],
   "source": [
    "# here if, else, print  and input is a predefined keywords\n",
    "a = int(input(\"Enter the value of a : \"))\n",
    "b = int(input(\"Enter the value of b : \"))\n",
    "if(a>b): \n",
    "    print(\"large\" + str(a))\n",
    "else:\n",
    "    large = b\n",
    "    print(\"large = \" +  str(b))"
   ]
  },
  {
   "cell_type": "code",
   "execution_count": 6,
   "id": "b0f2111f-9cf3-401f-b294-98a822a85ce1",
   "metadata": {},
   "outputs": [
    {
     "name": "stdout",
     "output_type": "stream",
     "text": [
      "The numbers are greater than 0\n",
      "The numbers are greater than 0\n"
     ]
    }
   ],
   "source": [
    "a = 10\n",
    "b = 10\n",
    "c = -10\n",
    "if a > 0 and b > 5:\n",
    "    print(\"The numbers are greater than 0\")\n",
    "if a > 0 and b > 0:\n",
    "    print(\"The numbers are greater than 0\")\n",
    "else:\n",
    "    print(\"Atleast one number is not greater than 0\")"
   ]
  },
  {
   "cell_type": "code",
   "execution_count": null,
   "id": "3a00c5d8-03a1-45cc-8ef7-a074724c2340",
   "metadata": {},
   "outputs": [],
   "source": []
  }
 ],
 "metadata": {
  "kernelspec": {
   "display_name": "Python 3 (ipykernel)",
   "language": "python",
   "name": "python3"
  },
  "language_info": {
   "codemirror_mode": {
    "name": "ipython",
    "version": 3
   },
   "file_extension": ".py",
   "mimetype": "text/x-python",
   "name": "python",
   "nbconvert_exporter": "python",
   "pygments_lexer": "ipython3",
   "version": "3.10.8"
  }
 },
 "nbformat": 4,
 "nbformat_minor": 5
}
